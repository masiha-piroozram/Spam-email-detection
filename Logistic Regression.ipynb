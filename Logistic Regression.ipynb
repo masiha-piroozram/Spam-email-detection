{
 "cells": [
  {
   "cell_type": "code",
   "execution_count": 27,
   "id": "d8898195",
   "metadata": {},
   "outputs": [],
   "source": [
    "#import packages\n",
    "from sklearn.linear_model import LogisticRegression\n",
    "from sklearn.model_selection import train_test_split\n",
    "from sklearn.metrics import accuracy_score\n",
    "from sklearn.metrics import confusion_matrix\n",
    "import pandas as pd"
   ]
  },
  {
   "cell_type": "code",
   "execution_count": 28,
   "id": "7e4f84f7",
   "metadata": {},
   "outputs": [],
   "source": [
    "#import the dataset\n",
    "data = pd.read_csv('spambase.csv', header=None)"
   ]
  },
  {
   "cell_type": "code",
   "execution_count": 29,
   "id": "831b34d3",
   "metadata": {},
   "outputs": [],
   "source": [
    "#split the dataset into train set and test set\n",
    "x_train, x_test, y_train, y_test = train_test_split(data.iloc[:, 0:57],data.iloc[:, 57],test_size = .25)"
   ]
  },
  {
   "cell_type": "code",
   "execution_count": 30,
   "id": "0ffaefea",
   "metadata": {},
   "outputs": [
    {
     "data": {
      "text/plain": [
       "0.9348392701998263"
      ]
     },
     "execution_count": 30,
     "metadata": {},
     "output_type": "execute_result"
    }
   ],
   "source": [
    "#build a model\n",
    "model = LogisticRegression(solver='liblinear', penalty='l1')\n",
    "model.fit(x_train, y_train)\n",
    "predict = model.predict(x_test)\n",
    "accuracy_score(y_test,predict)\n"
   ]
  },
  {
   "cell_type": "code",
   "execution_count": 31,
   "id": "8f998b0a",
   "metadata": {},
   "outputs": [
    {
     "data": {
      "text/plain": [
       "array([[657,  38],\n",
       "       [ 37, 419]])"
      ]
     },
     "execution_count": 31,
     "metadata": {},
     "output_type": "execute_result"
    }
   ],
   "source": [
    "confusion_matrix(y_test,predict)"
   ]
  },
  {
   "cell_type": "code",
   "execution_count": null,
   "id": "3a5328fb",
   "metadata": {},
   "outputs": [],
   "source": []
  }
 ],
 "metadata": {
  "kernelspec": {
   "display_name": "Python 3 (ipykernel)",
   "language": "python",
   "name": "python3"
  },
  "language_info": {
   "codemirror_mode": {
    "name": "ipython",
    "version": 3
   },
   "file_extension": ".py",
   "mimetype": "text/x-python",
   "name": "python",
   "nbconvert_exporter": "python",
   "pygments_lexer": "ipython3",
   "version": "3.9.6"
  }
 },
 "nbformat": 4,
 "nbformat_minor": 5
}
