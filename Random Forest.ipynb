{
 "cells": [
  {
   "cell_type": "code",
   "execution_count": 1,
   "id": "7bb665f4",
   "metadata": {},
   "outputs": [],
   "source": [
    "#import packages\n",
    "import pandas as pd\n",
    "import numpy as np\n",
    "from sklearn.ensemble import RandomForestClassifier\n",
    "from sklearn.model_selection import train_test_split\n",
    "from sklearn.metrics import accuracy_score\n",
    "from sklearn.metrics import confusion_matrix\n"
   ]
  },
  {
   "cell_type": "code",
   "execution_count": 2,
   "id": "6f9eccff",
   "metadata": {},
   "outputs": [],
   "source": [
    "#import the dataset\n",
    "data = pd.read_csv('spambase.csv' , header=None)"
   ]
  },
  {
   "cell_type": "code",
   "execution_count": 3,
   "id": "04d512ee",
   "metadata": {},
   "outputs": [],
   "source": [
    "#split the dataset into train set and test set\n",
    "x_train, x_test, y_train, y_test = train_test_split(data.iloc[:, 0:57],data.iloc[:, 57],test_size = .25)"
   ]
  },
  {
   "cell_type": "code",
   "execution_count": 4,
   "id": "429ac5a1",
   "metadata": {},
   "outputs": [
    {
     "data": {
      "text/plain": [
       "0.952215464813206"
      ]
     },
     "execution_count": 4,
     "metadata": {},
     "output_type": "execute_result"
    }
   ],
   "source": [
    "#build a model\n",
    "model = RandomForestClassifier(random_state=0)\n",
    "model.fit(x_train,y_train)\n",
    "predict = model.predict(x_test)\n",
    "accuracy_score(y_test , predict)"
   ]
  },
  {
   "cell_type": "code",
   "execution_count": 5,
   "id": "ad985144",
   "metadata": {},
   "outputs": [
    {
     "data": {
      "text/plain": [
       "array([[669,  21],\n",
       "       [ 34, 427]])"
      ]
     },
     "execution_count": 5,
     "metadata": {},
     "output_type": "execute_result"
    }
   ],
   "source": [
    "confusion_matrix(y_test,predict)"
   ]
  }
 ],
 "metadata": {
  "kernelspec": {
   "display_name": "Python 3 (ipykernel)",
   "language": "python",
   "name": "python3"
  },
  "language_info": {
   "codemirror_mode": {
    "name": "ipython",
    "version": 3
   },
   "file_extension": ".py",
   "mimetype": "text/x-python",
   "name": "python",
   "nbconvert_exporter": "python",
   "pygments_lexer": "ipython3",
   "version": "3.9.6"
  }
 },
 "nbformat": 4,
 "nbformat_minor": 5
}
